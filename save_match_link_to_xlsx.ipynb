{
 "cells": [
  {
   "cell_type": "code",
   "execution_count": null,
   "id": "768bd238",
   "metadata": {},
   "outputs": [],
   "source": [
    "from selenium import webdriver\n",
    "from selenium.webdriver.common.by import By\n",
    "import time\n",
    "import openpyxl\n",
    "import os\n",
    "import pandas as pd\n",
    "from dataclasses import dataclass\n",
    "from selenium.webdriver.support.ui import WebDriverWait\n",
    "from selenium.webdriver.support import expected_conditions as EC\n",
    "import re\n",
    "from typing import List\n",
    "import json\n",
    "from dataclasses import asdict"
   ]
  },
  {
   "cell_type": "code",
   "execution_count": null,
   "id": "320751c8",
   "metadata": {},
   "outputs": [],
   "source": [
    "def get_driver(url):\n",
    "    driver = webdriver.Chrome()\n",
    "    driver.maximize_window()\n",
    "    driver.get(url)\n",
    "\n",
    "    return driver"
   ]
  },
  {
   "cell_type": "code",
   "execution_count": null,
   "id": "9e424091",
   "metadata": {},
   "outputs": [],
   "source": [
    "def get_workbook(file_name):\n",
    "    if os.path.exists(file_name):\n",
    "        workbook = openpyxl.load_workbook(file_name)\n",
    "    else:\n",
    "        workbook = openpyxl.Workbook()\n",
    "        workbook.save(file_name)\n",
    "\n",
    "    return workbook"
   ]
  },
  {
   "cell_type": "code",
   "execution_count": null,
   "id": "b41626e5",
   "metadata": {},
   "outputs": [],
   "source": [
    "def write_to_excel(driver, file_name):\n",
    "    workbook = get_workbook(file_name)\n",
    "    sheet = workbook.active\n",
    "\n",
    "    \n",
    "    element = WebDriverWait(driver, 20).until(EC.element_to_be_clickable((By.XPATH, \"//*[@id='root']/div[2]/div/div/div[2]/form/div[3]/button[2]\")))\n",
    "    element.click()\n",
    "\n",
    "    element = WebDriverWait(driver, 20).until(EC.element_to_be_clickable((By.XPATH, \"/html/body/div[3]/div/div/div[1]/button\")))\n",
    "    element.click()\n",
    "\n",
    "\n",
    "    sheet.append(['Match Name', 'Match Link', 'Active'])\n",
    "\n",
    "    match_rows = driver.find_elements(By.CLASS_NAME, 'bet-table-row')\n",
    "\n",
    "\n",
    "    for match_row in match_rows:  \n",
    "        try:\n",
    "\n",
    "           match_table_link_href = match_row.find_element(By.XPATH, f\".//div[1]/a\").get_attribute(\"href\")\n",
    "           match_name_list = match_row.find_elements(By.XPATH, f\".//div[1]/a/span\")\n",
    "           match_name_text = ''\n",
    "           match_is_Active = 'True' if match_row.find_elements(By.XPATH, \".//*[contains(@class, 'active')]\") else 'False'\n",
    "           for match_name in match_name_list:\n",
    "               match_name_text += match_name.text + ' '\n",
    "\n",
    "\n",
    "           sheet.append([match_name_text.strip(), match_table_link_href, match_is_Active])\n",
    "           workbook.save(file_name)\n",
    "\n",
    "        except Exception as e:\n",
    "            print(f'error in index {i}: {e}')\n",
    "\n",
    "\n"
   ]
  },
  {
   "cell_type": "code",
   "execution_count": null,
   "id": "a83cb630",
   "metadata": {},
   "outputs": [],
   "source": [
    "def get_sport_name_and_links_run():\n",
    "    url = 'https://d247.com/home'\n",
    "\n",
    "    file_name = \"./data/cricket-matches.xlsx\"\n",
    "\n",
    "    driver = get_driver(url)\n",
    "\n",
    "    write_to_excel(driver, file_name)\n",
    "\n",
    "    driver.close()"
   ]
  },
  {
   "cell_type": "code",
   "execution_count": null,
   "id": "88cca04b",
   "metadata": {},
   "outputs": [],
   "source": [
    "get_sport_name_and_links_run()"
   ]
  }
 ],
 "metadata": {
  "language_info": {
   "name": "python"
  }
 },
 "nbformat": 4,
 "nbformat_minor": 5
}
